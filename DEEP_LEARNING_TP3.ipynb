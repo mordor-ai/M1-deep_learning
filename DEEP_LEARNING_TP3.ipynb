{
  "nbformat": 4,
  "nbformat_minor": 0,
  "metadata": {
    "colab": {
      "name": "DEEP_LEARNING_TP3.ipynb",
      "provenance": [],
      "collapsed_sections": [],
      "authorship_tag": "ABX9TyMB5lGzJI5Uee1H4aJObHGX",
      "include_colab_link": true
    },
    "kernelspec": {
      "name": "python3",
      "display_name": "Python 3"
    },
    "accelerator": "GPU"
  },
  "cells": [
    {
      "cell_type": "markdown",
      "metadata": {
        "id": "view-in-github",
        "colab_type": "text"
      },
      "source": [
        "<a href=\"https://colab.research.google.com/github/mordor-ai/deep_learning/blob/master/DEEP_LEARNING_TP3.ipynb\" target=\"_parent\"><img src=\"https://colab.research.google.com/assets/colab-badge.svg\" alt=\"Open In Colab\"/></a>"
      ]
    },
    {
      "cell_type": "code",
      "metadata": {
        "id": "XGuGJ272eVcr",
        "colab_type": "code",
        "outputId": "135ba967-4720-4d79-c763-e98ba8dda1ce",
        "colab": {
          "base_uri": "https://localhost:8080/",
          "height": 326
        }
      },
      "source": [
        "# permet de savoir si on a une cartegraphique ou pas\n",
        "\n",
        "!nvidia-smi"
      ],
      "execution_count": 0,
      "outputs": [
        {
          "output_type": "stream",
          "text": [
            "Mon Feb  3 14:39:41 2020       \n",
            "+-----------------------------------------------------------------------------+\n",
            "| NVIDIA-SMI 440.44       Driver Version: 418.67       CUDA Version: 10.1     |\n",
            "|-------------------------------+----------------------+----------------------+\n",
            "| GPU  Name        Persistence-M| Bus-Id        Disp.A | Volatile Uncorr. ECC |\n",
            "| Fan  Temp  Perf  Pwr:Usage/Cap|         Memory-Usage | GPU-Util  Compute M. |\n",
            "|===============================+======================+======================|\n",
            "|   0  Tesla P100-PCIE...  Off  | 00000000:00:04.0 Off |                    0 |\n",
            "| N/A   44C    P0    27W / 250W |      0MiB / 16280MiB |      0%      Default |\n",
            "+-------------------------------+----------------------+----------------------+\n",
            "                                                                               \n",
            "+-----------------------------------------------------------------------------+\n",
            "| Processes:                                                       GPU Memory |\n",
            "|  GPU       PID   Type   Process name                             Usage      |\n",
            "|=============================================================================|\n",
            "|  No running processes found                                                 |\n",
            "+-----------------------------------------------------------------------------+\n"
          ],
          "name": "stdout"
        }
      ]
    },
    {
      "cell_type": "code",
      "metadata": {
        "id": "U_fNi93Lf2W0",
        "colab_type": "code",
        "outputId": "c9a2b4c4-8974-45b5-eb31-ae9d99ccc3d7",
        "colab": {
          "base_uri": "https://localhost:8080/",
          "height": 797
        }
      },
      "source": [
        "import numpy as np\n",
        "import tensorflow as tf\n",
        "mnist = tf.contrib.learn.datasets.load_dataset(\"mnist\")\n",
        "train_data = mnist.train.images # Returns np.array\n",
        "train_labels = np.asarray(mnist.train.labels , dtype=np.int32)\n",
        "eval_data = mnist.test.images # Returns np.array\n",
        "eval_labels = np.asarray(mnist.test.labels ,dtype=np.int32)\n",
        "\n",
        "print (train_data.shape)"
      ],
      "execution_count": 0,
      "outputs": [
        {
          "output_type": "display_data",
          "data": {
            "text/html": [
              "<p style=\"color: red;\">\n",
              "The default version of TensorFlow in Colab will soon switch to TensorFlow 2.x.<br>\n",
              "We recommend you <a href=\"https://www.tensorflow.org/guide/migrate\" target=\"_blank\">upgrade</a> now \n",
              "or ensure your notebook will continue to use TensorFlow 1.x via the <code>%tensorflow_version 1.x</code> magic:\n",
              "<a href=\"https://colab.research.google.com/notebooks/tensorflow_version.ipynb\" target=\"_blank\">more info</a>.</p>\n"
            ],
            "text/plain": [
              "<IPython.core.display.HTML object>"
            ]
          },
          "metadata": {
            "tags": []
          }
        },
        {
          "output_type": "stream",
          "text": [
            "WARNING:tensorflow:\n",
            "The TensorFlow contrib module will not be included in TensorFlow 2.0.\n",
            "For more information, please see:\n",
            "  * https://github.com/tensorflow/community/blob/master/rfcs/20180907-contrib-sunset.md\n",
            "  * https://github.com/tensorflow/addons\n",
            "  * https://github.com/tensorflow/io (for I/O related ops)\n",
            "If you depend on functionality not listed there, please file an issue.\n",
            "\n",
            "WARNING:tensorflow:From <ipython-input-2-f4b995788de5>:3: load_dataset (from tensorflow.contrib.learn.python.learn.datasets) is deprecated and will be removed in a future version.\n",
            "Instructions for updating:\n",
            "Please use tf.data.\n",
            "WARNING:tensorflow:From /usr/local/lib/python3.6/dist-packages/tensorflow_core/contrib/learn/python/learn/datasets/__init__.py:80: load_mnist (from tensorflow.contrib.learn.python.learn.datasets.mnist) is deprecated and will be removed in a future version.\n",
            "Instructions for updating:\n",
            "Please use alternatives such as official/mnist/dataset.py from tensorflow/models.\n",
            "WARNING:tensorflow:From /usr/local/lib/python3.6/dist-packages/tensorflow_core/contrib/learn/python/learn/datasets/mnist.py:300: read_data_sets (from tensorflow.contrib.learn.python.learn.datasets.mnist) is deprecated and will be removed in a future version.\n",
            "Instructions for updating:\n",
            "Please use alternatives such as official/mnist/dataset.py from tensorflow/models.\n",
            "WARNING:tensorflow:From /usr/local/lib/python3.6/dist-packages/tensorflow_core/contrib/learn/python/learn/datasets/mnist.py:260: maybe_download (from tensorflow.contrib.learn.python.learn.datasets.base) is deprecated and will be removed in a future version.\n",
            "Instructions for updating:\n",
            "Please write your own downloading logic.\n",
            "WARNING:tensorflow:From /usr/local/lib/python3.6/dist-packages/tensorflow_core/contrib/learn/python/learn/datasets/base.py:252: _internal_retry.<locals>.wrap.<locals>.wrapped_fn (from tensorflow.contrib.learn.python.learn.datasets.base) is deprecated and will be removed in a future version.\n",
            "Instructions for updating:\n",
            "Please use urllib or similar directly.\n",
            "Successfully downloaded train-images-idx3-ubyte.gz 9912422 bytes.\n",
            "WARNING:tensorflow:From /usr/local/lib/python3.6/dist-packages/tensorflow_core/contrib/learn/python/learn/datasets/mnist.py:262: extract_images (from tensorflow.contrib.learn.python.learn.datasets.mnist) is deprecated and will be removed in a future version.\n",
            "Instructions for updating:\n",
            "Please use tf.data to implement this functionality.\n",
            "Extracting MNIST-data/train-images-idx3-ubyte.gz\n",
            "Successfully downloaded train-labels-idx1-ubyte.gz 28881 bytes.\n",
            "WARNING:tensorflow:From /usr/local/lib/python3.6/dist-packages/tensorflow_core/contrib/learn/python/learn/datasets/mnist.py:267: extract_labels (from tensorflow.contrib.learn.python.learn.datasets.mnist) is deprecated and will be removed in a future version.\n",
            "Instructions for updating:\n",
            "Please use tf.data to implement this functionality.\n",
            "Extracting MNIST-data/train-labels-idx1-ubyte.gz\n",
            "Successfully downloaded t10k-images-idx3-ubyte.gz 1648877 bytes.\n",
            "Extracting MNIST-data/t10k-images-idx3-ubyte.gz\n",
            "Successfully downloaded t10k-labels-idx1-ubyte.gz 4542 bytes.\n",
            "Extracting MNIST-data/t10k-labels-idx1-ubyte.gz\n",
            "WARNING:tensorflow:From /usr/local/lib/python3.6/dist-packages/tensorflow_core/contrib/learn/python/learn/datasets/mnist.py:290: DataSet.__init__ (from tensorflow.contrib.learn.python.learn.datasets.mnist) is deprecated and will be removed in a future version.\n",
            "Instructions for updating:\n",
            "Please use alternatives such as official/mnist/dataset.py from tensorflow/models.\n",
            "(55000, 784)\n"
          ],
          "name": "stdout"
        }
      ]
    },
    {
      "cell_type": "markdown",
      "metadata": {
        "id": "NyGDjfbNgOV3",
        "colab_type": "text"
      },
      "source": [
        "\n",
        "1. A􏰅cher une image ainsi que son label. Adapter les placeholders.\n",
        "2. La fonction de perte est-elle encore adaptée ? Modi􏰄er là en prenant en compte le type des\n",
        "données.\n",
        "3. Répetez l'apprentissage dé􏰄ni dans la question 8 de l'exercice 1.\n",
        "2\n",
        "3\n",
        "4\n",
        "5\n",
        "1\n",
        "4. Modi􏰄er la fonction d'activation en une sigmoid. Dans les scénarios utilisant 4 couches de\n",
        "neurones comparez l'évolution de la fonction de perte et des performances en fonction du type\n",
        "d'activation.\n",
        "5. Le data augmentation consiste à accroître la taille de la base d'apprentissage de manière\n",
        "synthétique en modi􏰄ant les données d'entrées. Proposez et implémentez un type ou plusieurs\n",
        "types de data augmentation. Que constatez-vous ?\n",
        "6. Comparez les temps d'apprentissage avec et sans carte graphique.\n",
        "7. Sur la couche d'entrée et une couche cachée, calculez les histogrammes d'activation de dix\n",
        "neurones aléatoires lorsque l'on passe en entrée du réseau les images d'un label donné. Dans\n"
      ]
    },
    {
      "cell_type": "code",
      "metadata": {
        "id": "umJLYEc2jh9p",
        "colab_type": "code",
        "outputId": "f5f9e913-29db-4f59-8311-adc5cad30949",
        "colab": {
          "base_uri": "https://localhost:8080/",
          "height": 34
        }
      },
      "source": [
        "train_labels.shape\n",
        "train_labels[1]"
      ],
      "execution_count": 0,
      "outputs": [
        {
          "output_type": "execute_result",
          "data": {
            "text/plain": [
              "3"
            ]
          },
          "metadata": {
            "tags": []
          },
          "execution_count": 16
        }
      ]
    },
    {
      "cell_type": "code",
      "metadata": {
        "id": "n8bpVqmag68p",
        "colab_type": "code",
        "outputId": "e116a183-9fbf-432c-d9eb-11703f2d1e80",
        "colab": {
          "base_uri": "https://localhost:8080/",
          "height": 1000
        }
      },
      "source": [
        "#A􏰅fficher une image ainsi que son label. Adapter les placeholders.\n",
        "import matplotlib.pyplot as plt\n",
        "for i in range (0,10):\n",
        "  im = np.reshape(train_data[train_labels==i,:][0],(28,28))\n",
        "  plt.imshow(im)\n",
        "  print(\"i=\"+str(i)+\" l=\"+str(train_labels[i]))\n",
        "  plt.show()\n",
        "       "
      ],
      "execution_count": 0,
      "outputs": [
        {
          "output_type": "stream",
          "text": [
            "i=0 l=7\n"
          ],
          "name": "stdout"
        },
        {
          "output_type": "display_data",
          "data": {
            "image/png": "[encoded data removed]",
            "text/plain": [
              "<Figure size 432x288 with 1 Axes>"
            ]
          },
          "metadata": {
            "tags": []
          }
        },
        {
          "output_type": "stream",
          "text": [
            "i=1 l=3\n"
          ],
          "name": "stdout"
        },
        {
          "output_type": "display_data",
          "data": {
            "image/png": "[encoded data removed]",
            "text/plain": [
              "<Figure size 432x288 with 1 Axes>"
            ]
          },
          "metadata": {
            "tags": []
          }
        },
        {
          "output_type": "stream",
          "text": [
            "i=2 l=4\n"
          ],
          "name": "stdout"
        },
        {
          "output_type": "display_data",
          "data": {
            "image/png": "[encoded data removed]",
            "text/plain": [
              "<Figure size 432x288 with 1 Axes>"
            ]
          },
          "metadata": {
            "tags": []
          }
        },
        {
          "output_type": "stream",
          "text": [
            "i=3 l=6\n"
          ],
          "name": "stdout"
        },
        {
          "output_type": "display_data",
          "data": {
            "image/png": "[encoded data removed]",
            "text/plain": [
              "<Figure size 432x288 with 1 Axes>"
            ]
          },
          "metadata": {
            "tags": []
          }
        },
        {
          "output_type": "stream",
          "text": [
            "i=4 l=1\n"
          ],
          "name": "stdout"
        },
        {
          "output_type": "display_data",
          "data": {
            "image/png": "[encoded data removed]",
            "text/plain": [
              "<Figure size 432x288 with 1 Axes>"
            ]
          },
          "metadata": {
            "tags": []
          }
        },
        {
          "output_type": "stream",
          "text": [
            "i=5 l=8\n"
          ],
          "name": "stdout"
        },
        {
          "output_type": "display_data",
          "data": {
            "image/png": "[encoded data removed]",
            "text/plain": [
              "<Figure size 432x288 with 1 Axes>"
            ]
          },
          "metadata": {
            "tags": []
          }
        },
        {
          "output_type": "stream",
          "text": [
            "i=6 l=1\n"
          ],
          "name": "stdout"
        },
        {
          "output_type": "display_data",
          "data": {
            "image/png": "[encoded data removed]",
            "text/plain": [
              "<Figure size 432x288 with 1 Axes>"
            ]
          },
          "metadata": {
            "tags": []
          }
        },
        {
          "output_type": "stream",
          "text": [
            "i=7 l=0\n"
          ],
          "name": "stdout"
        },
        {
          "output_type": "display_data",
          "data": {
            "image/png": "[encoded data removed]",
            "text/plain": [
              "<Figure size 432x288 with 1 Axes>"
            ]
          },
          "metadata": {
            "tags": []
          }
        },
        {
          "output_type": "stream",
          "text": [
            "i=8 l=9\n"
          ],
          "name": "stdout"
        },
        {
          "output_type": "display_data",
          "data": {
            "image/png": "[encoded data removed]",
            "text/plain": [
              "<Figure size 432x288 with 1 Axes>"
            ]
          },
          "metadata": {
            "tags": []
          }
        },
        {
          "output_type": "stream",
          "text": [
            "i=9 l=8\n"
          ],
          "name": "stdout"
        },
        {
          "output_type": "display_data",
          "data": {
            "image/png": "[encoded data removed]",
            "text/plain": [
              "<Figure size 432x288 with 1 Axes>"
            ]
          },
          "metadata": {
            "tags": []
          }
        }
      ]
    },
    {
      "cell_type": "code",
      "metadata": {
        "id": "vvcXQ0eykuF1",
        "colab_type": "code",
        "colab": {}
      },
      "source": [
        "# 28 :  dimension de l'image\n",
        "# None = taille du batch\n",
        "# declaration des datas\n",
        "data = tf.placeholder(tf.float32,shape=(None,28*28))\n"
      ],
      "execution_count": 0,
      "outputs": []
    },
    {
      "cell_type": "code",
      "metadata": {
        "id": "bHNPfmxxmBOc",
        "colab_type": "code",
        "colab": {}
      },
      "source": [
        "# declaration des labels\n",
        "# dimension des classes de labels\n",
        "label = tf.placeholder(tf.float32, shape=(None,10))"
      ],
      "execution_count": 0,
      "outputs": []
    },
    {
      "cell_type": "code",
      "metadata": {
        "id": "wzqQQaWamvkz",
        "colab_type": "code",
        "colab": {}
      },
      "source": [
        "# declaration de la première variable\n",
        "def weight_variable(shape):\n",
        "  initial =  tf.truncated_normal(shape,stddev=0.01)\n",
        "  return tf.Variable(initial)\n",
        "\n",
        "def bias_variable(shape):\n",
        "  #on n'utilise pas une fonction ReLU => 0.0\n",
        "  initial=  tf.constant(0.0,shape=shape)\n",
        "  return tf.Variable(initial)\n",
        "\n",
        "# poids\n",
        "W_fc1 = weight_variable([28*28,128] )\n",
        "# biais \n",
        "b_fc1 = bias_variable([128])"
      ],
      "execution_count": 0,
      "outputs": []
    },
    {
      "cell_type": "code",
      "metadata": {
        "id": "hKjxv1JfppoQ",
        "colab_type": "code",
        "colab": {}
      },
      "source": [
        "# création de la 1ere couche\n",
        "p1 = tf.nn.tanh(tf.matmul(data,W_fc1)+ b_fc1)"
      ],
      "execution_count": 0,
      "outputs": []
    },
    {
      "cell_type": "code",
      "metadata": {
        "id": "AzoXckZep6Gh",
        "colab_type": "code",
        "colab": {}
      },
      "source": [
        "# création de la deuxième couche de neurones\n",
        "#\n",
        "# poids\n",
        "W_fc2 = weight_variable([128,64] )\n",
        "# biais \n",
        "b_fc2 = bias_variable([64])\n",
        "\n",
        "p2 = tf.nn.tanh(tf.matmul(p1,W_fc2)+ b_fc2)\n"
      ],
      "execution_count": 0,
      "outputs": []
    },
    {
      "cell_type": "code",
      "metadata": {
        "id": "8rfbeLyYrnBX",
        "colab_type": "code",
        "colab": {}
      },
      "source": [
        "# création de la troisième couche de neurones\n",
        "#\n",
        "# poids\n",
        "W_fc3 = weight_variable([64,10] )\n",
        "# biais \n",
        "b_fc3 = bias_variable([10])\n",
        "# pas de fonction d'activation \n",
        "p3 = tf.matmul(p2,W_fc3)+ b_fc3"
      ],
      "execution_count": 0,
      "outputs": []
    },
    {
      "cell_type": "code",
      "metadata": {
        "id": "Udnc4oZ0sF3h",
        "colab_type": "code",
        "colab": {}
      },
      "source": [
        "# cross entropie\n",
        "softmax_loss =  tf.reduce_mean( \n",
        "      tf.nn.softmax_cross_entropy_with_logits(\n",
        "          labels = label, \n",
        "          logits=p3)\n",
        "    )"
      ],
      "execution_count": 0,
      "outputs": []
    },
    {
      "cell_type": "code",
      "metadata": {
        "id": "aqwRfZWIs-Fy",
        "colab_type": "code",
        "colab": {}
      },
      "source": [
        "# on definit le sgb\n",
        "optimizer  = tf.train.GradientDescentOptimizer(0.01)\n",
        "train= optimizer.minimize(softmax_loss)"
      ],
      "execution_count": 0,
      "outputs": []
    },
    {
      "cell_type": "code",
      "metadata": {
        "id": "uXQm5XGFtl9i",
        "colab_type": "code",
        "outputId": "baf08016-31e5-4144-d98c-7511e9a4688f",
        "colab": {
          "base_uri": "https://localhost:8080/",
          "height": 88
        }
      },
      "source": [
        "# decalration de la session\n",
        "sess=  tf.Session()\n",
        "# initialisationd es varaibvles\n",
        "init =  tf.initialize_all_variables()\n",
        "sess.run(init)\n"
      ],
      "execution_count": 0,
      "outputs": [
        {
          "output_type": "stream",
          "text": [
            "WARNING:tensorflow:From /usr/local/lib/python3.6/dist-packages/tensorflow_core/python/util/tf_should_use.py:198: initialize_all_variables (from tensorflow.python.ops.variables) is deprecated and will be removed after 2017-03-02.\n",
            "Instructions for updating:\n",
            "Use `tf.global_variables_initializer` instead.\n"
          ],
          "name": "stdout"
        }
      ]
    },
    {
      "cell_type": "code",
      "metadata": {
        "id": "eRlov16AuPQu",
        "colab_type": "code",
        "colab": {}
      },
      "source": [
        "\n",
        "# vector 42 X (28X28)\n",
        "\n",
        "# Labels 42 X (10)\n",
        "\n",
        "import random\n",
        "def getTrainBatch (size):\n",
        "  z =  np.zeros((size,28*28))\n",
        "  l = np.zeros((size,10))\n",
        "  for i in range(0, size):\n",
        "    r = random.randint(0,train_data.shape[0]-1)\n",
        "    z[i] = train_data[r]\n",
        "    l[i,train_labels[r]] =1\n",
        "  return z, l\n",
        "\n",
        "\n"
      ],
      "execution_count": 0,
      "outputs": []
    },
    {
      "cell_type": "code",
      "metadata": {
        "id": "0Gvbf1_cwOHh",
        "colab_type": "code",
        "outputId": "96142c0e-bc3c-4bc5-88bb-c33b3974a43f",
        "colab": {
          "base_uri": "https://localhost:8080/",
          "height": 1000
        }
      },
      "source": [
        "for i  in range(10000):\n",
        "  im, l =  getTrainBatch(42)\n",
        "  #tmp = sess.run(p3, feed_dict={data:im, label:l})\n",
        "  loss, _ =  sess.run([softmax_loss,train],feed_dict={data:im, label:l})\n",
        "  \n",
        "  if i%100==00:\n",
        "    #print(loss)\n",
        "    pred = sess.run(p3, feed_dict={data:eval_data})\n",
        "    argmax =  np.argmax(pred, axis=1)\n",
        "   # print(argmax)\n",
        "    print (str(i)+ \" => \" + str(np.sum(argmax==eval_labels)/float(eval_labels.shape[0])))\n",
        "    \n",
        " #argmax(vecture de la dernire couche  ) => comprae à  la réalité trerrain donne l'accuracy"
      ],
      "execution_count": 0,
      "outputs": [
        {
          "output_type": "stream",
          "text": [
            "0 => 0.9462\n",
            "100 => 0.9466\n",
            "200 => 0.9466\n",
            "300 => 0.9458\n",
            "400 => 0.9483\n",
            "500 => 0.9477\n",
            "600 => 0.9457\n",
            "700 => 0.9469\n",
            "800 => 0.9487\n",
            "900 => 0.9476\n",
            "1000 => 0.9479\n",
            "1100 => 0.9486\n",
            "1200 => 0.9482\n",
            "1300 => 0.9478\n",
            "1400 => 0.9482\n",
            "1500 => 0.9492\n",
            "1600 => 0.9488\n",
            "1700 => 0.9491\n",
            "1800 => 0.9491\n",
            "1900 => 0.9505\n",
            "2000 => 0.9504\n",
            "2100 => 0.9497\n",
            "2200 => 0.9508\n",
            "2300 => 0.9506\n",
            "2400 => 0.9503\n",
            "2500 => 0.9506\n",
            "2600 => 0.9514\n",
            "2700 => 0.9505\n",
            "2800 => 0.9504\n",
            "2900 => 0.9516\n",
            "3000 => 0.9519\n",
            "3100 => 0.9508\n",
            "3200 => 0.9511\n",
            "3300 => 0.9531\n",
            "3400 => 0.9519\n",
            "3500 => 0.9513\n",
            "3600 => 0.9518\n",
            "3700 => 0.9535\n",
            "3800 => 0.9522\n",
            "3900 => 0.9521\n",
            "4000 => 0.9538\n",
            "4100 => 0.953\n",
            "4200 => 0.9533\n",
            "4300 => 0.9533\n",
            "4400 => 0.954\n",
            "4500 => 0.9541\n",
            "4600 => 0.9546\n",
            "4700 => 0.9524\n",
            "4800 => 0.9545\n",
            "4900 => 0.9543\n",
            "5000 => 0.9547\n",
            "5100 => 0.954\n",
            "5200 => 0.9547\n",
            "5300 => 0.9545\n",
            "5400 => 0.9545\n",
            "5500 => 0.954\n",
            "5600 => 0.9549\n",
            "5700 => 0.9556\n",
            "5800 => 0.9554\n",
            "5900 => 0.9561\n",
            "6000 => 0.9572\n",
            "6100 => 0.9569\n",
            "6200 => 0.9566\n",
            "6300 => 0.9559\n",
            "6400 => 0.9573\n",
            "6500 => 0.9564\n",
            "6600 => 0.9567\n",
            "6700 => 0.9573\n",
            "6800 => 0.9574\n",
            "6900 => 0.9575\n",
            "7000 => 0.957\n",
            "7100 => 0.9582\n",
            "7200 => 0.9577\n",
            "7300 => 0.9584\n",
            "7400 => 0.958\n",
            "7500 => 0.9582\n",
            "7600 => 0.9582\n",
            "7700 => 0.9582\n",
            "7800 => 0.9578\n",
            "7900 => 0.9572\n",
            "8000 => 0.9589\n",
            "8100 => 0.9587\n",
            "8200 => 0.9589\n",
            "8300 => 0.9586\n",
            "8400 => 0.9584\n",
            "8500 => 0.9586\n",
            "8600 => 0.9582\n",
            "8700 => 0.9581\n",
            "8800 => 0.9593\n",
            "8900 => 0.9595\n",
            "9000 => 0.9593\n",
            "9100 => 0.9604\n",
            "9200 => 0.9595\n",
            "9300 => 0.9594\n",
            "9400 => 0.9603\n",
            "9500 => 0.9601\n",
            "9600 => 0.9596\n",
            "9700 => 0.9608\n",
            "9800 => 0.9607\n",
            "9900 => 0.961\n"
          ],
          "name": "stdout"
        }
      ]
    },
    {
      "cell_type": "code",
      "metadata": {
        "id": "hUzebQoq2keE",
        "colab_type": "code",
        "outputId": "04de390b-5bd7-46c3-e2ae-c657cd523571",
        "colab": {
          "base_uri": "https://localhost:8080/",
          "height": 513
        }
      },
      "source": [
        "# todo  afficher les poids\n",
        "#plt.hist(np.arange(0,100), bins=10)\n",
        "#plt.show()\n",
        "W = sess.run(W_fc1)\n",
        "# todo afficher un histogramme de W\n",
        "plt.hist(W, bins=10)\n",
        "plt.show()\n"
      ],
      "execution_count": 0,
      "outputs": [
        {
          "output_type": "display_data",
          "data": {
            "image/png": "[encoded data removed]",
            "text/plain": [
              "<Figure size 432x288 with 1 Axes>"
            ]
          },
          "metadata": {
            "tags": []
          }
        },
        {
          "output_type": "display_data",
          "data": {
            "image/png": "[encoded data removed]",
            "text/plain": [
              "<Figure size 432x288 with 1 Axes>"
            ]
          },
          "metadata": {
            "tags": []
          }
        }
      ]
    }
  ]
}