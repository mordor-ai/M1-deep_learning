{
  "nbformat": 4,
  "nbformat_minor": 0,
  "metadata": {
    "colab": {
      "name": "DEEP_LEARNING_TP5.ipynb",
      "provenance": [],
      "collapsed_sections": [],
      "authorship_tag": "ABX9TyMRonBBfqVDMyo6k92l0pTM",
      "include_colab_link": true
    },
    "kernelspec": {
      "name": "python3",
      "display_name": "Python 3"
    }
  },
  "cells": [
    {
      "cell_type": "markdown",
      "metadata": {
        "id": "view-in-github",
        "colab_type": "text"
      },
      "source": [
        "<a href=\"https://colab.research.google.com/github/mordor-ai/deep_learning/blob/master/DEEP_LEARNING_TP5.ipynb\" target=\"_parent\"><img src=\"https://colab.research.google.com/assets/colab-badge.svg\" alt=\"Open In Colab\"/></a>"
      ]
    },
    {
      "cell_type": "code",
      "metadata": {
        "id": "6oaNZYynsHkD",
        "colab_type": "code",
        "outputId": "89e5ac66-9ab2-4760-c754-6f9560445999",
        "colab": {
          "base_uri": "https://localhost:8080/",
          "height": 119
        }
      },
      "source": [
        "# fonction loss=  \n",
        "\n",
        "import numpy as np\n",
        "import tensorflow as tf\n",
        "from tensorflow import keras\n",
        "import random\n",
        "import numpy as np\n",
        "import matplotlib.pyplot as plt\n",
        "# import des données images\n",
        "mnist = tf.contrib.learn.datasets.load_dataset(\"mnist\")\n",
        "#data_train = mnist.train.images # Returns np.array\n",
        "#label_train = np.asarray(mnist.train.labels , dtype=np.int32)\n",
        "#data_test = mnist.test.images # Returns np.array\n",
        "#label_test = np.asarray(mnist.test.labels ,dtype=np.int32)\n",
        "#print (data_train.shape)\n",
        "\n",
        "\n",
        "base =  tf.keras.datasets.cifar100.load_data()\n",
        "# on normalise\n",
        "data_train= base[0][0]/255.00\n",
        "# on normalise en divisant par 255\n",
        "data_test =  base [1][0]/255.00\n",
        "label_train = base[0][1]\n",
        "label_test =base[1][1]\n"
      ],
      "execution_count": 0,
      "outputs": [
        {
          "output_type": "stream",
          "text": [
            "Extracting MNIST-data/train-images-idx3-ubyte.gz\n",
            "Extracting MNIST-data/train-labels-idx1-ubyte.gz\n",
            "Extracting MNIST-data/t10k-images-idx3-ubyte.gz\n",
            "Extracting MNIST-data/t10k-labels-idx1-ubyte.gz\n",
            "Downloading data from https://www.cs.toronto.edu/~kriz/cifar-100-python.tar.gz\n",
            "169009152/169001437 [==============================] - 6s 0us/step\n"
          ],
          "name": "stdout"
        }
      ]
    },
    {
      "cell_type": "code",
      "metadata": {
        "id": "NbhXWmjCyWjs",
        "colab_type": "code",
        "outputId": "3ce54c03-5193-48e5-f52f-debcc0151c3d",
        "colab": {
          "base_uri": "https://localhost:8080/",
          "height": 68
        }
      },
      "source": [
        "print(tf.__version__)\n",
        "!nvidia-smi\n",
        "## permet de définir la version de la bibliotheque \n",
        "#import tensorflow.compat.v1 as tf"
      ],
      "execution_count": 0,
      "outputs": [
        {
          "output_type": "stream",
          "text": [
            "1.15.0\n",
            "NVIDIA-SMI has failed because it couldn't communicate with the NVIDIA driver. Make sure that the latest NVIDIA driver is installed and running.\n",
            "\n"
          ],
          "name": "stdout"
        }
      ]
    },
    {
      "cell_type": "code",
      "metadata": {
        "id": "UfnNuNvWw98l",
        "colab_type": "code",
        "outputId": "9f58fca9-0ba5-427f-bb33-8fa40d21d7c8",
        "colab": {
          "base_uri": "https://localhost:8080/",
          "height": 34
        }
      },
      "source": [
        "train_labels.shape\n",
        "train_labels[1]"
      ],
      "execution_count": 0,
      "outputs": [
        {
          "output_type": "execute_result",
          "data": {
            "text/plain": [
              "3"
            ]
          },
          "metadata": {
            "tags": []
          },
          "execution_count": 79
        }
      ]
    },
    {
      "cell_type": "code",
      "metadata": {
        "id": "hSgwAKLWvMtH",
        "colab_type": "code",
        "outputId": "4903b083-05ac-474f-93fa-8ab6e713d8e5",
        "colab": {
          "base_uri": "https://localhost:8080/",
          "height": 82
        }
      },
      "source": [
        "# visualisation des données\n",
        "import matplotlib.pyplot as plt\n",
        "for i in range (0,10):\n",
        "  im = np.reshape(train_data[train_labels==i,:][0],(28,28))\n",
        "  plt.subplot(10,10,i+1)\n",
        "  plt.imshow(im)\n",
        "  plt.title(str(i))\n",
        "plt.show()\n"
      ],
      "execution_count": 0,
      "outputs": [
        {
          "output_type": "display_data",
          "data": {
            "image/png": "[encoded data removed]",
            "text/plain": [
              "<Figure size 432x288 with 10 Axes>"
            ]
          },
          "metadata": {
            "tags": []
          }
        }
      ]
    },
    {
      "cell_type": "code",
      "metadata": {
        "id": "GksoguRgCvku",
        "colab_type": "code",
        "colab": {}
      },
      "source": [
        "tf.reset_default_graph()"
      ],
      "execution_count": 0,
      "outputs": []
    },
    {
      "cell_type": "code",
      "metadata": {
        "id": "lHcrGE497Xc9",
        "colab_type": "code",
        "colab": {}
      },
      "source": [
        "# 28 :  dimension de l'image\n",
        "# None = taille du batch\n",
        "# declaration des datas\n",
        "data = tf.placeholder(tf.float32, shape=(None,32,32,3))\n",
        "# declaration des labels\n",
        "# dimension des classes de labels\n",
        "label = tf.placeholder(tf.float32, shape=(None,10))\n",
        "\n",
        "\n",
        "#data = tf.placeholder(tf.float32, shape=(None,32,32,3))\n",
        "#label =  tf.placeholder(tf.float32, shape=(None,100))"
      ],
      "execution_count": 0,
      "outputs": []
    },
    {
      "cell_type": "code",
      "metadata": {
        "id": "HfLcU6r8xHlv",
        "colab_type": "code",
        "colab": {}
      },
      "source": [
        "def conv2d (in_,name, \n",
        "            kernel_size, \n",
        "            filters, ## nombre de neurones de la couche\n",
        "            stride =1,## le pas de la convolution\n",
        "            padding=\"SAME\" ,##\n",
        "            activation=\"relu\"):\n",
        "  num_in_channels =  in_.get_shape()[-1].value\n",
        "  kernel_shape = [kernel_size,kernel_size, num_in_channels, filters]\n",
        "  biases =  tf.get_variable(name=name+\"/bias\",\n",
        "                            shape = [filters],\n",
        "                            trainable= True,\n",
        "                            initializer = tf.constant_initializer(0.1))\n",
        "  kernel =  tf.get_variable(shape=  kernel_shape,\n",
        "                            initializer = tf.contrib.layers.xavier_initializer(),\n",
        "                            trainable= True, name =  name+\"/kernel\")\n",
        "  outputs =   tf.nn.conv2d( in_,\n",
        "                            kernel,\n",
        "                            [1,stride,stride,1], \n",
        "                            padding =  padding) \n",
        "  outputs =  tf.nn.bias_add(outputs, biases)\n",
        "  if activation =='relu':\n",
        "      return tf.nn.relu(outputs)\n",
        "  elif  activation== 'rien':\n",
        "    return outputs\n",
        "\n",
        "BATCH_SIZE=16"
      ],
      "execution_count": 0,
      "outputs": []
    },
    {
      "cell_type": "code",
      "metadata": {
        "id": "EVLKIXqmxxkI",
        "colab_type": "code",
        "colab": {}
      },
      "source": [
        "N=  4\n",
        "\n",
        "c =  conv2d(in_=data,kernel_size=5,filters=96, stride=1, name=\"conv1\")\n",
        "\n",
        "c =  conv2d(in_=c, kernel_size=3,filters=128,stride=2, name=\"conv2\")\n",
        "\n",
        "c =  conv2d(in_=c, kernel_size=3,filters=128, stride= 1, name=\"conv3\")\n",
        "\n",
        "c =  conv2d(in_=c, kernel_size=3,filters=256, stride = 2 ,name=\"conv4\")\n",
        "\n",
        "c =  conv2d(in_=c, kernel_size=3,filters=256,stride = 2,name=\"conv5\")\n",
        "\n",
        "c =  conv2d(in_=c, kernel_size=4,filters=N,stride = 1,name=\"conv6\")\n",
        "\n",
        "c =  conv2d(in_=c, kernel_size=1,filters=256,stride = 1 ,name=\"conv7\")\n"
      ],
      "execution_count": 0,
      "outputs": []
    },
    {
      "cell_type": "code",
      "metadata": {
        "id": "vlhd8TFx8u8R",
        "colab_type": "code",
        "colab": {}
      },
      "source": [
        "c = tf.reshape(c,(-1,8,8,4))\n"
      ],
      "execution_count": 0,
      "outputs": []
    },
    {
      "cell_type": "code",
      "metadata": {
        "id": "YBOnb9vN8pTS",
        "colab_type": "code",
        "colab": {}
      },
      "source": [
        "c =  tf.layers.conv2d_transpose(c,\n",
        "                                filters=96,\n",
        "                                kernel_size=[5,5],\n",
        "                                strides=[2,2]\n",
        "                                , padding=\"SAME\",\n",
        "                                name=\"deconv8\")\n",
        "#32\n",
        "c =  tf.layers.conv2d_transpose(c,\n",
        "                                filters=64,\n",
        "                                kernel_size=[5,5],\n",
        "                                strides=[2,2]\n",
        "                                , padding=\"SAME\",\n",
        "                                name=\"deconv9\")\n",
        "\n",
        "c =  tf.layers.conv2d_transpose(c,\n",
        "                                filters=3,\n",
        "                                kernel_size=[5,5],\n",
        "                                strides=[1,1]\n",
        "                                , padding=\"SAME\",\n",
        "                                name=\"deconv10\")\n",
        "\n"
      ],
      "execution_count": 0,
      "outputs": []
    },
    {
      "cell_type": "code",
      "metadata": {
        "id": "HS6L8uOW8lYS",
        "colab_type": "code",
        "colab": {}
      },
      "source": [
        "c =  conv2d(in_=c,\n",
        "           kernel_size =5,\n",
        "           filters=3,\n",
        "           padding = \"SAME\",\n",
        "           name = \"conv10\", activation=\"rien\"\n",
        "           )"
      ],
      "execution_count": 0,
      "outputs": []
    },
    {
      "cell_type": "code",
      "metadata": {
        "id": "dopvSXH88G2n",
        "colab_type": "code",
        "colab": {}
      },
      "source": [
        "_loss =tf.reduce_mean((c-data)**2)"
      ],
      "execution_count": 0,
      "outputs": []
    },
    {
      "cell_type": "code",
      "metadata": {
        "id": "y0QeDBcm85yb",
        "colab_type": "code",
        "colab": {}
      },
      "source": [
        "optimizer = tf.compat.v1.train.MomentumOptimizer(0.01,0.9)\n",
        "train= optimizer.minimize(_loss)"
      ],
      "execution_count": 0,
      "outputs": []
    },
    {
      "cell_type": "code",
      "metadata": {
        "id": "3FUB-xsu9P73",
        "colab_type": "code",
        "colab": {}
      },
      "source": [
        "# decalration de la session\n",
        "sess=  tf.Session()\n",
        "# initialisationd es varaibvles\n",
        "init =  tf.initialize_all_variables()\n",
        "sess.run(init)"
      ],
      "execution_count": 0,
      "outputs": []
    },
    {
      "cell_type": "code",
      "metadata": {
        "id": "ZJ48lOZp9Xat",
        "colab_type": "code",
        "colab": {}
      },
      "source": [
        "# creation du batch\n",
        "\n",
        "import random\n",
        "\n",
        "def getTrainBatch (size):\n",
        "  z =  np.zeros((size,32,32,3))\n",
        "  l = np.zeros((size,100))\n",
        "  for i in range(0, size):\n",
        "    r = random.randint(0,data_train.shape[0]-1)\n",
        "    z[i] = data_train[r]\n",
        "    l[i,label_train[r]] =1\n",
        "  return z, l\n",
        "\n",
        "def getTestBatch():\n",
        "  size=  data_test.shape[0]\n",
        "  z =np.zeros((size,32,32,3))\n",
        "  l = np.zeros((size,100))\n",
        "  for i in range(0,size):\n",
        "     z[i] = data_test[i]\n",
        "     l[i,label_test[i]] = 1\n",
        "  return z, l\n",
        "\n",
        "\n"
      ],
      "execution_count": 0,
      "outputs": []
    },
    {
      "cell_type": "code",
      "metadata": {
        "id": "eHORTgEbB9p1",
        "colab_type": "code",
        "outputId": "9e1f60dd-6400-405d-dd67-4cf3b5e1f19a",
        "colab": {
          "base_uri": "https://localhost:8080/",
          "height": 283
        }
      },
      "source": [
        "inf_test, inf_label_test=  getTestBatch()\n"
      ],
      "execution_count": 0,
      "outputs": [
        {
          "output_type": "error",
          "ename": "ValueError",
          "evalue": "ignored",
          "traceback": [
            "\u001b[0;31m---------------------------------------------------------------------------\u001b[0m",
            "\u001b[0;31mValueError\u001b[0m                                Traceback (most recent call last)",
            "\u001b[0;32m<ipython-input-100-45c30c1832a1>\u001b[0m in \u001b[0;36m<module>\u001b[0;34m()\u001b[0m\n\u001b[0;32m----> 1\u001b[0;31m \u001b[0minf_test\u001b[0m\u001b[0;34m,\u001b[0m \u001b[0minf_label_test\u001b[0m\u001b[0;34m=\u001b[0m  \u001b[0mgetTestBatch\u001b[0m\u001b[0;34m(\u001b[0m\u001b[0;34m)\u001b[0m\u001b[0;34m\u001b[0m\u001b[0;34m\u001b[0m\u001b[0m\n\u001b[0m",
            "\u001b[0;32m<ipython-input-99-52a851cccc37>\u001b[0m in \u001b[0;36mgetTestBatch\u001b[0;34m()\u001b[0m\n\u001b[1;32m     16\u001b[0m   \u001b[0ml\u001b[0m \u001b[0;34m=\u001b[0m \u001b[0mnp\u001b[0m\u001b[0;34m.\u001b[0m\u001b[0mzeros\u001b[0m\u001b[0;34m(\u001b[0m\u001b[0;34m(\u001b[0m\u001b[0msize\u001b[0m\u001b[0;34m,\u001b[0m\u001b[0;36m100\u001b[0m\u001b[0;34m)\u001b[0m\u001b[0;34m)\u001b[0m\u001b[0;34m\u001b[0m\u001b[0;34m\u001b[0m\u001b[0m\n\u001b[1;32m     17\u001b[0m   \u001b[0;32mfor\u001b[0m \u001b[0mi\u001b[0m \u001b[0;32min\u001b[0m \u001b[0mrange\u001b[0m\u001b[0;34m(\u001b[0m\u001b[0;36m0\u001b[0m\u001b[0;34m,\u001b[0m\u001b[0msize\u001b[0m\u001b[0;34m)\u001b[0m\u001b[0;34m:\u001b[0m\u001b[0;34m\u001b[0m\u001b[0;34m\u001b[0m\u001b[0m\n\u001b[0;32m---> 18\u001b[0;31m      \u001b[0mz\u001b[0m\u001b[0;34m[\u001b[0m\u001b[0mi\u001b[0m\u001b[0;34m]\u001b[0m \u001b[0;34m=\u001b[0m \u001b[0mdata_test\u001b[0m\u001b[0;34m[\u001b[0m\u001b[0mi\u001b[0m\u001b[0;34m]\u001b[0m\u001b[0;34m\u001b[0m\u001b[0;34m\u001b[0m\u001b[0m\n\u001b[0m\u001b[1;32m     19\u001b[0m      \u001b[0ml\u001b[0m\u001b[0;34m[\u001b[0m\u001b[0mi\u001b[0m\u001b[0;34m,\u001b[0m\u001b[0mlabel_test\u001b[0m\u001b[0;34m[\u001b[0m\u001b[0mi\u001b[0m\u001b[0;34m]\u001b[0m\u001b[0;34m]\u001b[0m \u001b[0;34m=\u001b[0m \u001b[0;36m1\u001b[0m\u001b[0;34m\u001b[0m\u001b[0;34m\u001b[0m\u001b[0m\n\u001b[1;32m     20\u001b[0m   \u001b[0;32mreturn\u001b[0m \u001b[0mz\u001b[0m\u001b[0;34m,\u001b[0m \u001b[0ml\u001b[0m\u001b[0;34m\u001b[0m\u001b[0;34m\u001b[0m\u001b[0m\n",
            "\u001b[0;31mValueError\u001b[0m: could not broadcast input array from shape (784) into shape (32,32,3)"
          ]
        }
      ]
    },
    {
      "cell_type": "code",
      "metadata": {
        "id": "_rv0q4iE9cQF",
        "colab_type": "code",
        "colab": {}
      },
      "source": [
        "lr_= 0.01\n",
        "for i in range(0,100000):\n",
        "  z,l = getTrainBatch(BATCH_SIZE) # 32X32X3\n",
        "  sess.run(train,feed_dict={data: z, label:l})\n",
        "  #sess.run(train,feed_dict={data: z, label:l, lr:lr_})\n",
        "  if i%5000==00\n",
        "    z= inf_test[:,:,:,:]\n",
        "    lo, out_ =  sess.run([_loss,out], feed_dict={data:z})\n",
        "    print(i,\"  \",lo)\n",
        "    plt.subplot(1,4,1)\n",
        "    plt.imshow(out_[0,:,:,:])\n",
        "    plt.subplot(1,4,2)\n",
        "    plt.imshow(z[0,:,:,:])\n",
        "    plt.subplot(1,4,3)\n",
        "    plt.imshow(out_[1,:,:,:])\n",
        "    plt.subplot(1,4,4)\n",
        "    plt.imshow(z[1,:,:,:])\n",
        "    plt.show()\n",
        "  if i%3333==0 and i>0:\n",
        "    lr_*=0.1\n",
        "        \n",
        "        \n",
        "     \n",
        "  \n",
        "  "
      ],
      "execution_count": 0,
      "outputs": []
    },
    {
      "cell_type": "code",
      "metadata": {
        "id": "QRv3ECEmAtLu",
        "colab_type": "code",
        "colab": {}
      },
      "source": [
        ""
      ],
      "execution_count": 0,
      "outputs": []
    }
  ]
}