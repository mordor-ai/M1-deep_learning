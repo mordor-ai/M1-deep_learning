{
  "nbformat": 4,
  "nbformat_minor": 0,
  "metadata": {
    "colab": {
      "name": "DEEP_LEARNING_TRANSFERT.ipynb",
      "provenance": [],
      "authorship_tag": "ABX9TyOHY/NZbcgiAFOX6Qf39gWM",
      "include_colab_link": true
    },
    "kernelspec": {
      "name": "python3",
      "display_name": "Python 3"
    }
  },
  "cells": [
    {
      "cell_type": "markdown",
      "metadata": {
        "id": "view-in-github",
        "colab_type": "text"
      },
      "source": [
        "<a href=\"https://colab.research.google.com/github/mordor-ai/deep_learning/blob/master/DEEP_LEARNING_TRANSFERT.ipynb\" target=\"_parent\"><img src=\"https://colab.research.google.com/assets/colab-badge.svg\" alt=\"Open In Colab\"/></a>"
      ]
    },
    {
      "cell_type": "code",
      "metadata": {
        "id": "gJV3jy5XivAa",
        "colab_type": "code",
        "colab": {}
      },
      "source": [
        "def get_imag (img_path, size=  256):\n",
        "  img=  mpimg.imread"
      ],
      "execution_count": 0,
      "outputs": []
    }
  ]
}