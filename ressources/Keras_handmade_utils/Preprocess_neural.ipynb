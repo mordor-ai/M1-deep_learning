{
  "nbformat": 4,
  "nbformat_minor": 0,
  "metadata": {
    "colab": {
      "name": "Preprocess_neural.ipynb",
      "provenance": [],
      "collapsed_sections": [],
      "authorship_tag": "ABX9TyNDIlDpTNcotKbhftnFqYZ6",
      "include_colab_link": true
    },
    "kernelspec": {
      "name": "python3",
      "display_name": "Python 3"
    }
  },
  "cells": [
    {
      "cell_type": "markdown",
      "metadata": {
        "id": "view-in-github",
        "colab_type": "text"
      },
      "source": [
        "<a href=\"https://colab.research.google.com/github/Petrichoeur/Neural_Net_from_scratch/blob/master/Keras_handmade_utils/Preprocess_neural.ipynb\" target=\"_parent\"><img src=\"https://colab.research.google.com/assets/colab-badge.svg\" alt=\"Open In Colab\"/></a>"
      ]
    },
    {
      "cell_type": "code",
      "metadata": {
        "id": "qiNaHhhRLvRo",
        "colab_type": "code",
        "colab": {}
      },
      "source": [
        "#keras.backend.bias_add(x, bias, data_format=None)"
      ],
      "execution_count": 0,
      "outputs": []
    },
    {
      "cell_type": "code",
      "metadata": {
        "id": "Hq1ylgw4POiy",
        "colab_type": "code",
        "colab": {
          "base_uri": "https://localhost:8080/",
          "height": 81
        },
        "outputId": "89507416-757e-4522-acf6-d0fb70c0e731"
      },
      "source": [
        "from keras import backend as K # Backend import to make a custom activation function later  \n",
        "from keras.models import Model ,Sequential\n",
        "from matplotlib import pyplot as plt\n",
        "from keras.layers import Dense, Input, Concatenate, Lambda\n",
        "import pandas as pd \n",
        "import numpy as np   \n",
        "\n",
        "from sklearn.model_selection import train_test_split\n",
        "from sklearn import datasets \n",
        "from sklearn.preprocessing import OneHotEncoder\n",
        "import warnings \n",
        "from keras.utils import plot_model\n",
        "warnings.filterwarnings(\"ignore\")  # A lot of Depreciating warning with tensorflow .. \n",
        "\n",
        "\n",
        "from keras.callbacks import TensorBoard\n",
        "tbCallBack = TensorBoard(log_dir='./log')   \n",
        "# For tensorboard use later "
      ],
      "execution_count": 2,
      "outputs": [
        {
          "output_type": "stream",
          "text": [
            "Using TensorFlow backend.\n"
          ],
          "name": "stderr"
        },
        {
          "output_type": "display_data",
          "data": {
            "text/html": [
              "<p style=\"color: red;\">\n",
              "The default version of TensorFlow in Colab will soon switch to TensorFlow 2.x.<br>\n",
              "We recommend you <a href=\"https://www.tensorflow.org/guide/migrate\" target=\"_blank\">upgrade</a> now \n",
              "or ensure your notebook will continue to use TensorFlow 1.x via the <code>%tensorflow_version 1.x</code> magic:\n",
              "<a href=\"https://colab.research.google.com/notebooks/tensorflow_version.ipynb\" target=\"_blank\">more info</a>.</p>\n"
            ],
            "text/plain": [
              "<IPython.core.display.HTML object>"
            ]
          },
          "metadata": {
            "tags": []
          }
        }
      ]
    },
    {
      "cell_type": "markdown",
      "metadata": {
        "id": "PR3BOpcsWetE",
        "colab_type": "text"
      },
      "source": [
        "For the purpose of this notebook i will use a dataset that i find interesting and that you can find on this github repo : \n",
        " https://github.com/Bhush98/Predicting-pulsar-star   \n",
        " It's  a simple binary classification problem\n",
        "\n",
        " But don't focus on the dataset, focus on the preprocessing !! \n"
      ]
    },
    {
      "cell_type": "markdown",
      "metadata": {
        "id": "uTeSE6km7VU0",
        "colab_type": "text"
      },
      "source": [
        "# Import iris dataset for later "
      ]
    },
    {
      "cell_type": "code",
      "metadata": {
        "id": "fKQ2R2FF7WgG",
        "colab_type": "code",
        "colab": {}
      },
      "source": [
        "# Let's use the classical iris dataset : \n",
        "iris = datasets.load_iris()\n",
        "X = iris.data\n",
        "y = iris.target.reshape(-1, 1) \n",
        "encoder = OneHotEncoder(sparse=False)\n",
        "Y = encoder.fit_transform(y)"
      ],
      "execution_count": 0,
      "outputs": []
    },
    {
      "cell_type": "markdown",
      "metadata": {
        "id": "Bp3FAVK1XKGL",
        "colab_type": "text"
      },
      "source": [
        "# Preprocessing inside the network "
      ]
    },
    {
      "cell_type": "markdown",
      "metadata": {
        "id": "3dHy-xGWcJ2M",
        "colab_type": "text"
      },
      "source": [
        "## Normalization"
      ]
    },
    {
      "cell_type": "markdown",
      "metadata": {
        "id": "DUQjx7dGXPSl",
        "colab_type": "text"
      },
      "source": [
        " What i want to do here is make the normalization ( often made with the MinMaxScaler() of Sklearn ) part ot a neural network made with Keras. The purpose is to not re-use the scaler you use each time you want to reuse your model . \n",
        " But this imply the same limitation met with a simple standardisation or normalization : We hope that all the max and min values of each features are represented in the training data set .  \n",
        "\n",
        " First, we have to understand how normalization work : \n",
        " For a given feature , we will call it  $X_f$ ,   the normalization of each element  $ x \\in X_f$ is  : \n",
        "\n",
        " $$ Normalize(x) =\\frac{x-min(X_f)}{max(X_f)-min(X_f)} $$  \n",
        "\n",
        " Now we have to think, how can we use this in a neuron in a neural network ?  we have to analyse the structure of a neuron , we have a weights ( which can be fixed ) and an activation function ( which can be a simple linear function) .  \n",
        "So if we make a 1:1 connection beetween each features of the inputs and a simple neurone , we can assign a normalization . \n",
        "in our case : \n",
        "\n",
        " $$ Normalize(x) =$$ $$  x * \\frac{1}{max(X_f)-min(X_f)} - \\frac{min(X_f)}{max(X_f)-min(X_f)} $$  $$=$$ $$ a*x + b $$  \n",
        "\n",
        " We just have to fix the weights at 1 ( identity ) and make ax+b to the activation function .  \n",
        "\n"
      ]
    },
    {
      "cell_type": "markdown",
      "metadata": {
        "id": "zfzHWLi2cMRp",
        "colab_type": "text"
      },
      "source": [
        "## Making the activation function "
      ]
    },
    {
      "cell_type": "code",
      "metadata": {
        "id": "6mZCeOebPO1O",
        "colab_type": "code",
        "colab": {}
      },
      "source": [
        "# We use the keras back end functions to make it compatible with the architecture of an NN on Keras .  \n",
        "# K.constant(value, dtype=None, shape=None, name=None)\n",
        "def normalization(x,a,b):  \n",
        "    return (K.identity(x)*a) - b "
      ],
      "execution_count": 0,
      "outputs": []
    },
    {
      "cell_type": "code",
      "metadata": {
        "id": "hW3Wbo67e1v_",
        "colab_type": "code",
        "colab": {}
      },
      "source": [
        "# Okay so , simple right ? Unfortunately, it's not that simple . Because an activation function in Keras must have only one argument\n",
        "# in the api . You can use hand_made layer to solve the issue but it's harder and it's a MacGyver Technique . \n",
        "# I WANT an activation function , so , it's a bit brutal but : we can define a function within a function . \n",
        "def normalization(mini,maxi):   \n",
        "    a = 1 / (maxi-mini) \n",
        "    b= -a*mini\n",
        "    def inception(x) :\n",
        "        return (K.identity(x)*a) + b   \n",
        "    return inception \n"
      ],
      "execution_count": 0,
      "outputs": []
    },
    {
      "cell_type": "code",
      "metadata": {
        "id": "HccSCDlQe4wM",
        "colab_type": "code",
        "colab": {
          "base_uri": "https://localhost:8080/",
          "height": 263
        },
        "outputId": "f6d0058e-ef95-44e5-8e2d-ec1dd923767a"
      },
      "source": [
        "# So let's make a Tensor  and try this function .\n",
        "x= np.array([8]) # a simple 1d array\n",
        "var = K.variable(value=x, dtype='float64')  # Transform the array into tensorflow variable, a tensor .\n",
        "K.eval(normalization(1,2)(var) )  # I evaluate the result of the function ."
      ],
      "execution_count": 6,
      "outputs": [
        {
          "output_type": "stream",
          "text": [
            "WARNING:tensorflow:From /usr/local/lib/python3.6/dist-packages/keras/backend/tensorflow_backend.py:190: The name tf.get_default_session is deprecated. Please use tf.compat.v1.get_default_session instead.\n",
            "\n",
            "WARNING:tensorflow:From /usr/local/lib/python3.6/dist-packages/keras/backend/tensorflow_backend.py:197: The name tf.ConfigProto is deprecated. Please use tf.compat.v1.ConfigProto instead.\n",
            "\n",
            "WARNING:tensorflow:From /usr/local/lib/python3.6/dist-packages/keras/backend/tensorflow_backend.py:203: The name tf.Session is deprecated. Please use tf.compat.v1.Session instead.\n",
            "\n",
            "WARNING:tensorflow:From /usr/local/lib/python3.6/dist-packages/keras/backend/tensorflow_backend.py:207: The name tf.global_variables is deprecated. Please use tf.compat.v1.global_variables instead.\n",
            "\n",
            "WARNING:tensorflow:From /usr/local/lib/python3.6/dist-packages/keras/backend/tensorflow_backend.py:216: The name tf.is_variable_initialized is deprecated. Please use tf.compat.v1.is_variable_initialized instead.\n",
            "\n",
            "WARNING:tensorflow:From /usr/local/lib/python3.6/dist-packages/keras/backend/tensorflow_backend.py:223: The name tf.variables_initializer is deprecated. Please use tf.compat.v1.variables_initializer instead.\n",
            "\n"
          ],
          "name": "stdout"
        },
        {
          "output_type": "execute_result",
          "data": {
            "text/plain": [
              "array([7.])"
            ]
          },
          "metadata": {
            "tags": []
          },
          "execution_count": 6
        }
      ]
    },
    {
      "cell_type": "code",
      "metadata": {
        "id": "yJm0qIj7gF6X",
        "colab_type": "code",
        "colab": {}
      },
      "source": [
        "# That was the easy part , now we want to make the 1:1 layers from the inputs . \n",
        "# I'll use the architecture of a simple MLP. \n",
        "def Normalization_layer(X,input_name='Input1',output_name='output1'):   \n",
        "    # X must be an numpy array \n",
        "    num_input = X.shape[1]  \n",
        "\n",
        "\n",
        "    #We will collect the min and max of each values : \n",
        "    mini ={} \n",
        "    maxi = {} \n",
        "    for i in range(num_input): \n",
        "        mini[i]=min(X[:,i]) \n",
        "        maxi[i]=max(X[:,i])\n",
        "\n",
        "\n",
        "\n",
        "    input_neural=  Input([num_input],name=input_name)\n",
        "    # We will use the Lambda functionnality of Keras for spliting the input into \n",
        "    #  different input layer. \n",
        "    store_direct = {} \n",
        "    for i in range(num_input):\n",
        "        store_direct[i] = Lambda(lambda x: x[:,i:i+1], output_shape=(1,))(input_neural) \n",
        "    # we connect each element to a single neuron : \n",
        "    for i in range(num_input): \n",
        "        store_direct[i] = Dense(1,  \n",
        "                                use_bias=False,  \n",
        "                                input_shape=(1,) ,\n",
        "                                kernel_initializer='one',\n",
        "                                trainable=False ,\n",
        "                                activation=normalization(mini[i],maxi[i]))(store_direct[i])  \n",
        "    # trainable = False, because i don't want to be part of the backpropagation , it's just preprocessing \n",
        "    # use_bias = False : obviously we don't neet a bias  \n",
        "    # kernel_initializer='one' , to set all the weights at 1 . \n",
        "    output_preprocess = Concatenate(name=output_name)([val for val in store_direct.values()]) # I concatenate all for getting the output  \n",
        "    # I return the input and the output , to be used in a keras model.  \n",
        "\n",
        "    return Model(input_neural,output_preprocess)\n",
        "\n",
        "\n"
      ],
      "execution_count": 0,
      "outputs": []
    },
    {
      "cell_type": "markdown",
      "metadata": {
        "id": "nitDx9wSuXln",
        "colab_type": "text"
      },
      "source": [
        "So our function return a model , that we can add later to a simple model made with Sequential() method in Keras "
      ]
    },
    {
      "cell_type": "code",
      "metadata": {
        "id": "KRKhljbohmd1",
        "colab_type": "code",
        "colab": {
          "base_uri": "https://localhost:8080/",
          "height": 458
        },
        "outputId": "50a0dba0-fcb7-4cfa-cd7f-09f0266e56fd"
      },
      "source": [
        "# Let's see what the Normalization_layer looks like : \n",
        "Norm = Normalization_layer(X)\n",
        "plot_model(Norm)"
      ],
      "execution_count": 8,
      "outputs": [
        {
          "output_type": "stream",
          "text": [
            "WARNING:tensorflow:From /usr/local/lib/python3.6/dist-packages/keras/backend/tensorflow_backend.py:541: The name tf.placeholder is deprecated. Please use tf.compat.v1.placeholder instead.\n",
            "\n",
            "WARNING:tensorflow:From /usr/local/lib/python3.6/dist-packages/keras/backend/tensorflow_backend.py:66: The name tf.get_default_graph is deprecated. Please use tf.compat.v1.get_default_graph instead.\n",
            "\n"
          ],
          "name": "stdout"
        },
        {
          "output_type": "execute_result",
          "data": {
            "image/png": "[encoded data removed]",
            "text/plain": [
              "<IPython.core.display.Image object>"
            ]
          },
          "metadata": {
            "tags": []
          },
          "execution_count": 8
        }
      ]
    },
    {
      "cell_type": "markdown",
      "metadata": {
        "id": "_zZKs1a_yYJJ",
        "colab_type": "text"
      },
      "source": [
        "# Finaly make the model !"
      ]
    },
    {
      "cell_type": "code",
      "metadata": {
        "id": "giDqNldbh93g",
        "colab_type": "code",
        "colab": {
          "base_uri": "https://localhost:8080/",
          "height": 141
        },
        "outputId": "603e9b55-2f9c-40c0-b51a-bd2e16160e62"
      },
      "source": [
        "# Let's make a simple model for  a  classification  with 3 labels...for the iris dataset for example \n",
        "model = Sequential() \n",
        "model.add(Norm) \n",
        "model.add(Dense(10, input_shape=(4,), activation='relu'))\n",
        "model.add(Dense(10, activation='relu'))\n",
        "model.add(Dense(3, activation='softmax', name='output')) \n",
        "model.compile(optimizer='adam', loss='categorical_crossentropy', metrics=['accuracy'])"
      ],
      "execution_count": 9,
      "outputs": [
        {
          "output_type": "stream",
          "text": [
            "WARNING:tensorflow:From /usr/local/lib/python3.6/dist-packages/keras/backend/tensorflow_backend.py:4432: The name tf.random_uniform is deprecated. Please use tf.random.uniform instead.\n",
            "\n",
            "WARNING:tensorflow:From /usr/local/lib/python3.6/dist-packages/keras/optimizers.py:793: The name tf.train.Optimizer is deprecated. Please use tf.compat.v1.train.Optimizer instead.\n",
            "\n",
            "WARNING:tensorflow:From /usr/local/lib/python3.6/dist-packages/keras/backend/tensorflow_backend.py:3576: The name tf.log is deprecated. Please use tf.math.log instead.\n",
            "\n"
          ],
          "name": "stdout"
        }
      ]
    },
    {
      "cell_type": "markdown",
      "metadata": {
        "id": "Es-N5Pn-zK-5",
        "colab_type": "text"
      },
      "source": [
        ""
      ]
    },
    {
      "cell_type": "code",
      "metadata": {
        "id": "RBoZOTZt5Bdf",
        "colab_type": "code",
        "colab": {
          "base_uri": "https://localhost:8080/",
          "height": 295
        },
        "outputId": "b6d4b142-16dd-4249-f2dd-9fb5a1a94872"
      },
      "source": [
        "model.summary()"
      ],
      "execution_count": 10,
      "outputs": [
        {
          "output_type": "stream",
          "text": [
            "Model: \"sequential_1\"\n",
            "_________________________________________________________________\n",
            "Layer (type)                 Output Shape              Param #   \n",
            "=================================================================\n",
            "model_1 (Model)              (None, 4)                 4         \n",
            "_________________________________________________________________\n",
            "dense_5 (Dense)              (None, 10)                50        \n",
            "_________________________________________________________________\n",
            "dense_6 (Dense)              (None, 10)                110       \n",
            "_________________________________________________________________\n",
            "output (Dense)               (None, 3)                 33        \n",
            "=================================================================\n",
            "Total params: 197\n",
            "Trainable params: 193\n",
            "Non-trainable params: 4\n",
            "_________________________________________________________________\n"
          ],
          "name": "stdout"
        }
      ]
    },
    {
      "cell_type": "code",
      "metadata": {
        "id": "5Z6FsY1xy3ck",
        "colab_type": "code",
        "colab": {}
      },
      "source": [
        "# Let's make a train and a validation set first  = \n",
        "X_train, X_test, y_train, y_test = train_test_split(X, Y, test_size=0.2)"
      ],
      "execution_count": 0,
      "outputs": []
    },
    {
      "cell_type": "code",
      "metadata": {
        "id": "GWrQO7wukDIs",
        "colab_type": "code",
        "colab": {
          "base_uri": "https://localhost:8080/",
          "height": 905
        },
        "outputId": "cb6802f3-38d4-49ac-85a0-2ded352da65f"
      },
      "source": [
        "\n",
        "\n",
        "\n",
        "history = model.fit(X_train, y_train,\n",
        "          batch_size=1,\n",
        "          epochs=10,\n",
        "          verbose=1,\n",
        "          validation_split=0.1,\n",
        "          callbacks=[tbCallBack])  \n",
        "# You can find this example for the vizualisation here : https://keras.io/visualization/\n",
        "\n",
        "# Plot training & validation loss values\n",
        "plt.plot(history.history['loss'])\n",
        "plt.plot(history.history['val_loss'])\n",
        "plt.title('Model loss')\n",
        "plt.ylabel('Loss')\n",
        "plt.xlabel('Epoch')\n",
        "plt.legend(['Train', 'Test'], loc='upper left')\n",
        "plt.show()"
      ],
      "execution_count": 12,
      "outputs": [
        {
          "output_type": "stream",
          "text": [
            "WARNING:tensorflow:From /usr/local/lib/python3.6/dist-packages/tensorflow_core/python/ops/math_grad.py:1424: where (from tensorflow.python.ops.array_ops) is deprecated and will be removed in a future version.\n",
            "Instructions for updating:\n",
            "Use tf.where in 2.0, which has the same broadcast rule as np.where\n",
            "WARNING:tensorflow:From /usr/local/lib/python3.6/dist-packages/keras/backend/tensorflow_backend.py:1033: The name tf.assign_add is deprecated. Please use tf.compat.v1.assign_add instead.\n",
            "\n",
            "WARNING:tensorflow:From /usr/local/lib/python3.6/dist-packages/keras/backend/tensorflow_backend.py:1020: The name tf.assign is deprecated. Please use tf.compat.v1.assign instead.\n",
            "\n",
            "Train on 108 samples, validate on 12 samples\n",
            "WARNING:tensorflow:From /usr/local/lib/python3.6/dist-packages/keras/callbacks.py:1122: The name tf.summary.merge_all is deprecated. Please use tf.compat.v1.summary.merge_all instead.\n",
            "\n",
            "WARNING:tensorflow:From /usr/local/lib/python3.6/dist-packages/keras/callbacks.py:1125: The name tf.summary.FileWriter is deprecated. Please use tf.compat.v1.summary.FileWriter instead.\n",
            "\n",
            "Epoch 1/10\n",
            "108/108 [==============================] - 0s 4ms/step - loss: 1.1291 - acc: 0.4537 - val_loss: 1.1763 - val_acc: 0.4167\n",
            "WARNING:tensorflow:From /usr/local/lib/python3.6/dist-packages/keras/callbacks.py:1265: The name tf.Summary is deprecated. Please use tf.compat.v1.Summary instead.\n",
            "\n",
            "Epoch 2/10\n",
            "108/108 [==============================] - 0s 1ms/step - loss: 1.0492 - acc: 0.6204 - val_loss: 1.0892 - val_acc: 0.3333\n",
            "Epoch 3/10\n",
            "108/108 [==============================] - 0s 1ms/step - loss: 0.9644 - acc: 0.5833 - val_loss: 0.9858 - val_acc: 0.3333\n",
            "Epoch 4/10\n",
            "108/108 [==============================] - 0s 1ms/step - loss: 0.8687 - acc: 0.5833 - val_loss: 0.8903 - val_acc: 0.3333\n",
            "Epoch 5/10\n",
            "108/108 [==============================] - 0s 1ms/step - loss: 0.7784 - acc: 0.5926 - val_loss: 0.7977 - val_acc: 0.3333\n",
            "Epoch 6/10\n",
            "108/108 [==============================] - 0s 1ms/step - loss: 0.6809 - acc: 0.6574 - val_loss: 0.6614 - val_acc: 1.0000\n",
            "Epoch 7/10\n",
            "108/108 [==============================] - 0s 1ms/step - loss: 0.5804 - acc: 0.8796 - val_loss: 0.5522 - val_acc: 1.0000\n",
            "Epoch 8/10\n",
            "108/108 [==============================] - 0s 1ms/step - loss: 0.4965 - acc: 0.9259 - val_loss: 0.4327 - val_acc: 1.0000\n",
            "Epoch 9/10\n",
            "108/108 [==============================] - 0s 1ms/step - loss: 0.4224 - acc: 0.9352 - val_loss: 0.3493 - val_acc: 1.0000\n",
            "Epoch 10/10\n",
            "108/108 [==============================] - 0s 1ms/step - loss: 0.3609 - acc: 0.9352 - val_loss: 0.2911 - val_acc: 1.0000\n"
          ],
          "name": "stdout"
        },
        {
          "output_type": "display_data",
          "data": {
            "image/png": "[encoded data removed]",
            "text/plain": [
              "<Figure size 432x288 with 1 Axes>"
            ]
          },
          "metadata": {
            "tags": []
          }
        }
      ]
    },
    {
      "cell_type": "code",
      "metadata": {
        "id": "dAB58WvmsmK3",
        "colab_type": "code",
        "colab": {
          "base_uri": "https://localhost:8080/",
          "height": 208
        },
        "outputId": "e4c69f72-66f8-4659-ba11-f39e3018b6f0"
      },
      "source": [
        "# Let's see how well trained our model is  ! \n",
        "pred=model.predict(X_test)  \n",
        "predict_class = np.argmax(pred, axis=1)\n",
        "predict_class = predict_class.tolist()\n",
        "from sklearn.metrics import classification_report \n",
        "print(classification_report(np.round(pred),y_test))"
      ],
      "execution_count": 13,
      "outputs": [
        {
          "output_type": "stream",
          "text": [
            "              precision    recall  f1-score   support\n",
            "\n",
            "           0       1.00      1.00      1.00        10\n",
            "           1       0.92      1.00      0.96        11\n",
            "           2       1.00      0.89      0.94         9\n",
            "\n",
            "   micro avg       0.97      0.97      0.97        30\n",
            "   macro avg       0.97      0.96      0.97        30\n",
            "weighted avg       0.97      0.97      0.97        30\n",
            " samples avg       0.97      0.97      0.97        30\n",
            "\n"
          ],
          "name": "stdout"
        }
      ]
    },
    {
      "cell_type": "markdown",
      "metadata": {
        "id": "QbApdFYG-QVT",
        "colab_type": "text"
      },
      "source": [
        "This notebook is not about how well a multi layer perceptron can handle a classification but it's about creating an entire model without a preprocessing part out of it . With this method of normalization you can juste save the model with keras and you don't have to save a Scaler with pickle or joblib. it makes your model easier to put into production"
      ]
    },
    {
      "cell_type": "markdown",
      "metadata": {
        "id": "uCu9KOo_-_VK",
        "colab_type": "text"
      },
      "source": [
        "# Bonus  ( TENSORBOARD ) \n",
        "Click on the last link  after the execution of the code below to be redirected to tensorboard"
      ]
    },
    {
      "cell_type": "code",
      "metadata": {
        "id": "gUSXPrJL_AkD",
        "colab_type": "code",
        "colab": {
          "base_uri": "https://localhost:8080/",
          "height": 260
        },
        "outputId": "875d22d2-6bad-49b1-ddf3-01d5441764fe"
      },
      "source": [
        "!wget https://bin.equinox.io/c/4VmDzA7iaHb/ngrok-stable-linux-amd64.zip\n",
        "!unzip ngrok-stable-linux-amd64.zip \n",
        "\n",
        "LOG_DIR = './log'\n",
        "get_ipython().system_raw(\n",
        "    'tensorboard --logdir {} --host 0.0.0.0 --port 6006 &'\n",
        "    .format(LOG_DIR)\n",
        ")\n",
        "\n",
        "get_ipython().system_raw('./ngrok http 6006 &') \n",
        "\n",
        "! curl -s http://localhost:4040/api/tunnels | python3 -c \\\n",
        "    \"import sys, json; print(json.load(sys.stdin)['tunnels'][0]['public_url'])\" \n",
        "\n",
        "# Thanks to : https://www.dlology.com/blog/quick-guide-to-run-tensorboard-in-google-colab/"
      ],
      "execution_count": 14,
      "outputs": [
        {
          "output_type": "stream",
          "text": [
            "--2020-01-30 01:24:38--  https://bin.equinox.io/c/4VmDzA7iaHb/ngrok-stable-linux-amd64.zip\n",
            "Resolving bin.equinox.io (bin.equinox.io)... 52.20.119.24, 52.54.249.116, 34.230.145.192, ...\n",
            "Connecting to bin.equinox.io (bin.equinox.io)|52.20.119.24|:443... connected.\n",
            "HTTP request sent, awaiting response... 200 OK\n",
            "Length: 13773305 (13M) [application/octet-stream]\n",
            "Saving to: ‘ngrok-stable-linux-amd64.zip’\n",
            "\n",
            "ngrok-stable-linux- 100%[===================>]  13.13M  39.8MB/s    in 0.3s    \n",
            "\n",
            "2020-01-30 01:24:39 (39.8 MB/s) - ‘ngrok-stable-linux-amd64.zip’ saved [13773305/13773305]\n",
            "\n",
            "Archive:  ngrok-stable-linux-amd64.zip\n",
            "  inflating: ngrok                   \n",
            "https://bdc0c628.ngrok.io\n"
          ],
          "name": "stdout"
        }
      ]
    }
  ]
}