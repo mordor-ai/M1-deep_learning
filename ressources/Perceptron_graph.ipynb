{
  "nbformat": 4,
  "nbformat_minor": 0,
  "metadata": {
    "colab": {
      "name": "Perceptron_graph.ipynb",
      "provenance": [],
      "authorship_tag": "ABX9TyNscUsF2zbpJ6cw2nF0md9b",
      "include_colab_link": true
    },
    "kernelspec": {
      "name": "python3",
      "display_name": "Python 3"
    }
  },
  "cells": [
    {
      "cell_type": "markdown",
      "metadata": {
        "id": "view-in-github",
        "colab_type": "text"
      },
      "source": [
        "<a href=\"https://colab.research.google.com/github/Petrichoeur/Neural_Net_from_scratch/blob/master/Perceptron_graph.ipynb\" target=\"_parent\"><img src=\"https://colab.research.google.com/assets/colab-badge.svg\" alt=\"Open In Colab\"/></a>"
      ]
    },
    {
      "cell_type": "markdown",
      "metadata": {
        "id": "L1GAzsc9qQs3",
        "colab_type": "text"
      },
      "source": [
        "# WARNING : \n",
        "\n",
        " If you use this notebook on google collab, don't run it all . google collab is slow to update all the content so , first run the Generating  image from graph algorithm , wait a little till the content is available and then launch the \"make video\" algorithm . "
      ]
    },
    {
      "cell_type": "code",
      "metadata": {
        "id": "qVZphMpyWZq7",
        "colab_type": "code",
        "colab": {}
      },
      "source": [
        "import numpy as np # This is the main framework we will use \n",
        "from matplotlib import pyplot as plt   \n",
        " # install graphviz For making Video for non-static vizualisation ( if you're not on collab) \n",
        "    # !pip install graphviz\n",
        "from graphviz import Graph , Digraph\n",
        "import scipy.stats   \n",
        "from base64 import b64encode # For display the video made later \n",
        "from sklearn.model_selection import train_test_split\n",
        "# If you are using this notebook localy and not on collab, make sure you have Ffmpeg instaled , by doing : \n",
        "            # ffmpeg --version  \n",
        "            # if nothing  : sudo apt-get install ffmpeg (Linux only, i don't know the way for windows but you can google the issue)\n",
        " # Usefull for spitting and shuffling the data\n",
        " # f1_score will be use but accuracy is also a good way of evaluate a classification.F1 score is more discriminating\n",
        "\n",
        "from IPython.display import HTML # For seeing vid inside the jupyter notebook."
      ],
      "execution_count": 0,
      "outputs": []
    },
    {
      "cell_type": "code",
      "metadata": {
        "id": "URE7MgP6BR4Y",
        "colab_type": "code",
        "colab": {}
      },
      "source": [
        "def classif(x): # Heavyside activation function with use of bias .\n",
        "    if x >  0 :\n",
        "        return 1 \n",
        "    if x <= 0  :\n",
        "        return -1 \n",
        "def perceptron_train_weights(X, Y,learning_rate=1,epochs=10):\n",
        "    weights = np.zeros(len(X[0])) # Initialization of the weights \n",
        "    for t in range(epochs):\n",
        "        for i, input_ in enumerate(X):\n",
        "            if (np.dot(input_, weights)*Y[i]) <= 0:\n",
        "                weights= weights + learning_rate*input_*Y[i] # Update of weights with Hebb's rule. \n",
        "    return weights # Return the weights vector \n",
        "\n",
        "def perceptron_predict(X, Y,learning_rate=1,epochs=1,w=False):   \n",
        "    weight=perceptron_train_weights(X, Y,learning_rate,epochs) # We get the weights\n",
        "    Y_dot=[]\n",
        "\n",
        "    for i, x in enumerate(X):\n",
        "      Y_dot.append(np.dot(X[i], weight)) # we get the weights multiply by inputs\n",
        "      Y_hat=[ classif(val) for val in Y_dot] # The prediction of the perceptron\n",
        "    if w == True : \n",
        "        return Y_hat,weight  \n",
        "    return Y_hat \n",
        "\n",
        "def score(x_test,y_test,weights): # Function to get the score of the prediction based on weights.\n",
        "    Y_hat_score=[]\n",
        "    for i, val in enumerate(x_test):\n",
        "        Y_hat_score.append(np.dot(val, weights)) \n",
        "  \n",
        "    y_pred=[ classif(val) for val in Y_hat_score]\n",
        "    return f1_score(y_pred,y_test) \n",
        "\n",
        "\n",
        "# Fonction pour récupérer le jeu de données initial \n",
        "def create_norm(N,dim,distance,random=True,to_train=True): \n",
        "    if random == False : # To have always the sames values if you want to \n",
        "        np.random.seed(0) \n",
        "    x1=np.random.randn(N,dim) # We make two random gaussian (N(0,1) distributions )\n",
        "    x2=np.random.randn(N,dim)  \n",
        "    x1[:,2]=1     # We use it for the bias. \n",
        "    x2[:,2]=1 \n",
        "    x2[:,0]+=distance  # Distance beetween the two distribution. \n",
        "                        # the second distribution has a different mean . Here x2 follow N(distance,1) \n",
        "                            # Usefull for modulate the separability of space\n",
        "    X=np.concatenate((x1,x2),axis=0)   \n",
        "    y=np.array([1]*N+[-1]*N)  # The label are [-1,1], it's the more efficient way for labelize the output with a perceptron( with Heavy_side activation)\n",
        "    if to_train == True : \n",
        "        return X,y  # For just getting the entire data set and the output labels\n",
        "    else : \n",
        "        return x1,x2,X,y # For getting all ( usefull for vizualisation ) \n",
        "\n",
        "\n"
      ],
      "execution_count": 0,
      "outputs": []
    },
    {
      "cell_type": "code",
      "metadata": {
        "id": "FuW7oJ9LB_C3",
        "colab_type": "code",
        "colab": {
          "base_uri": "https://localhost:8080/",
          "height": 281
        },
        "outputId": "886c2c5a-e6d6-429b-c39f-21a85198d847"
      },
      "source": [
        "N=60 # Number of element in each distribution , the total number of the dataset is N*2\n",
        "dim=3 # We make 3 dimensionnal array, 2 for x and y axis and the third for the bias .\n",
        "distance = 2 # We use 3.5 for the distance beetween distribution because we know that most of the value of a gaussian distribution\n",
        "             # Like N(mu,sigma) will be in  [mu-3*sigma,mu +3*sigma ] and we want the two distribution almost separable.\n",
        "x1,x2,X,y = create_norm(N,dim,distance,to_train=False) # \n",
        "plt.scatter(x1[:,0],x1[:,1],color='blue')\n",
        "plt.scatter(x2[:,0],x2[:,1],color='red') \n",
        "plt.title('Vizualisation of the binary classification problem ')\n",
        "plt.show()   \n",
        "# Vizualisation of the two distributions."
      ],
      "execution_count": 6,
      "outputs": [
        {
          "output_type": "display_data",
          "data": {
            "image/png": "[encoded data removed]",
            "text/plain": [
              "<Figure size 432x288 with 1 Axes>"
            ]
          },
          "metadata": {
            "tags": []
          }
        }
      ]
    },
    {
      "cell_type": "code",
      "metadata": {
        "id": "scaHe3y39HFF",
        "colab_type": "code",
        "colab": {}
      },
      "source": [
        "epochs = 3 # Number of iteration make \n",
        "learning_rate=1 \n",
        "weights = np.zeros(len(X[0])) # We initialize the weights\n",
        "x_train,x_test,y_train,y_test=train_test_split(X,y,test_size=0.1) # On utilise la fonction train test split de sklearn \n",
        "                                                                # Pour effectuer un melange des données \n",
        "                                                                # On pourra utiliser le test de set plus tard pour evaluer \n",
        "                                                                # la viabilité du modèle.\n",
        "\n",
        "for epo in range(epochs):\n",
        "    update_iter=0\n",
        "    for i, x in enumerate(x_train):\n",
        "        if (np.dot(x, weights)*y_train[i]) <= 0:\n",
        "            weights= weights + learning_rate*x*y_train[i]\n",
        "            update_iter=i   # We memorize the iteration where the updates are made \n",
        "        test= Graph(format='png')  # We create a graph \n",
        "        # We create a graph which has the structure of a perceptron. \n",
        "        # And we use f-string for showing values of each parameter \n",
        "        test.graph_attr[\"rankdir\"] = \"LR\"   \n",
        "        test.edge(f'X1= {x[0]:.4f}','Artificial Neuron',label=f'W1={weights[0]:.4f}') \n",
        "        test.edge(f'X2= {x[1]:.4f}','Artificial Neuron',label=f'W2={weights[1]:.4f}')\n",
        "        test.edge(f'Bias= {x[2]:.4f}','Artificial Neuron',label=f'W3={weights[2]:.4f}') \n",
        "        test.node(f'Training of a Perceptron epoch={epo+1} \\n update at iter = {update_iter} \\n update progress = {i/len(x_train):.2f} %') \n",
        "        # We get the summation for the activation function \n",
        "        sum_w=np.dot(x, weights) \n",
        "        activate=sum_w*y[i]\n",
        "        color_f ='' \n",
        "        # We colorize the node of the activation depending on the activation of the neuron when training.\n",
        "        if activate > 0 : \n",
        "            color_f = 'green'\n",
        "        else :\n",
        "            color_f ='red' \n",
        "        prediction=classif(activate)\n",
        "        test.edge(f'Artificial Neuron',f'Sum = {sum_w:.3f}') \n",
        "        test.node('Activation function',color=color_f,style='filled')\n",
        "        test.edge(f'Sum = {sum_w:.3f}','Activation function') \n",
        "        test.node('Prediction',label=f'Prediction : {prediction} True value : {y_train[i]}',color=color_f,style='filled') \n",
        "        test.edge('Activation function',f'Prediction')\n",
        "        # We create the .png \n",
        "        test.render(f'perceptron_{epo}_{i}') \n",
        "    "
      ],
      "execution_count": 0,
      "outputs": []
    },
    {
      "cell_type": "code",
      "metadata": {
        "id": "7JSYZb7lc39B",
        "colab_type": "code",
        "colab": {
          "base_uri": "https://localhost:8080/",
          "height": 188
        },
        "outputId": "b64a05bf-34de-4c2f-fb5c-bbbbdbaade9b"
      },
      "source": [
        "\n",
        "1/0"
      ],
      "execution_count": 6,
      "outputs": [
        {
          "output_type": "error",
          "ename": "ZeroDivisionError",
          "evalue": "ignored",
          "traceback": [
            "\u001b[0;31m---------------------------------------------------------------------------\u001b[0m",
            "\u001b[0;31mZeroDivisionError\u001b[0m                         Traceback (most recent call last)",
            "\u001b[0;32m<ipython-input-6-a816926b5560>\u001b[0m in \u001b[0;36m<module>\u001b[0;34m()\u001b[0m\n\u001b[1;32m      1\u001b[0m \u001b[0;34m\u001b[0m\u001b[0m\n\u001b[0;32m----> 2\u001b[0;31m \u001b[0;36m1\u001b[0m\u001b[0;34m/\u001b[0m\u001b[0;36m0\u001b[0m\u001b[0;34m\u001b[0m\u001b[0;34m\u001b[0m\u001b[0m\n\u001b[0m",
            "\u001b[0;31mZeroDivisionError\u001b[0m: division by zero"
          ]
        }
      ]
    },
    {
      "cell_type": "code",
      "metadata": {
        "id": "ulwB7Gj8XBQ-",
        "colab_type": "code",
        "colab": {}
      },
      "source": [
        "import os \n",
        "import cv2  \n",
        "from PIL import Image  \n",
        "import argparse \n",
        "from google.colab.patches import cv2_imshow\n",
        "image_list=[]\n",
        "for epo in range(epochs):\n",
        "    for k in range(len(x_train)): \n",
        "        image_list.append(f'perceptron_{epo}_{k}.png')\n",
        "\n",
        "\n",
        "frame = cv2.imread(image_list[0])\n",
        "height, width, layers = frame.shape \n",
        "video_name = 'Perceptron_video.avi' \n",
        "\n",
        "fourcc = cv2.VideoWriter_fourcc(*'mp4v') # Be sure to use lower case\n",
        "out = cv2.VideoWriter(video_name, fourcc, 4.0, (width, height)) \n",
        "\n",
        "for image in image_list:\n",
        "    frame = cv2.imread(image)\n",
        "\n",
        "    out.write(frame) # Write out frame to video\n",
        "\n",
        "# Release everything if job is finished\n",
        "out.release()\n",
        "cv2.destroyAllWindows()"
      ],
      "execution_count": 0,
      "outputs": []
    },
    {
      "cell_type": "code",
      "metadata": {
        "id": "9uTaAPR_YL3h",
        "colab_type": "code",
        "colab": {
          "base_uri": "https://localhost:8080/",
          "height": 34
        },
        "outputId": "6a4469a9-f1dc-455a-98fe-3e44441e39c1"
      },
      "source": [
        ""
      ],
      "execution_count": 12,
      "outputs": [
        {
          "output_type": "execute_result",
          "data": {
            "text/plain": [
              "324"
            ]
          },
          "metadata": {
            "tags": []
          },
          "execution_count": 12
        }
      ]
    },
    {
      "cell_type": "code",
      "metadata": {
        "id": "tT6sBl2TYTYX",
        "colab_type": "code",
        "colab": {
          "base_uri": "https://localhost:8080/",
          "height": 34
        },
        "outputId": "06ae84ae-b191-4b91-c51e-38cb8cb0c578"
      },
      "source": [
        "324/4\n",
        "\n"
      ],
      "execution_count": 13,
      "outputs": [
        {
          "output_type": "execute_result",
          "data": {
            "text/plain": [
              "81.0"
            ]
          },
          "metadata": {
            "tags": []
          },
          "execution_count": 13
        }
      ]
    },
    {
      "cell_type": "code",
      "metadata": {
        "id": "VsTANaG-YV-W",
        "colab_type": "code",
        "colab": {}
      },
      "source": [
        ""
      ],
      "execution_count": 0,
      "outputs": []
    },
    {
      "cell_type": "code",
      "metadata": {
        "id": "Q2USklKwYb-H",
        "colab_type": "code",
        "colab": {}
      },
      "source": [
        ""
      ],
      "execution_count": 0,
      "outputs": []
    },
    {
      "cell_type": "code",
      "metadata": {
        "id": "yhj_iPweRGR6",
        "colab_type": "code",
        "colab": {}
      },
      "source": [
        ""
      ],
      "execution_count": 0,
      "outputs": []
    },
    {
      "cell_type": "code",
      "metadata": {
        "id": "_1oQV52PbIH_",
        "colab_type": "code",
        "colab": {}
      },
      "source": [
        ""
      ],
      "execution_count": 0,
      "outputs": []
    },
    {
      "cell_type": "code",
      "metadata": {
        "id": "a_BZhW0tbPJK",
        "colab_type": "code",
        "colab": {}
      },
      "source": [
        ""
      ],
      "execution_count": 0,
      "outputs": []
    },
    {
      "cell_type": "code",
      "metadata": {
        "id": "4H4oRJiqgmeU",
        "colab_type": "code",
        "colab": {}
      },
      "source": [
        ""
      ],
      "execution_count": 0,
      "outputs": []
    }
  ]
}